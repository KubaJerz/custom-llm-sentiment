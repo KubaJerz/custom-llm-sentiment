{
 "cells": [
  {
   "cell_type": "markdown",
   "id": "a36e8274",
   "metadata": {},
   "source": [
    "Loosely following:\n",
    " \n",
    "https://www.datacamp.com/tutorial/fine-tuning-large-language-models"
   ]
  },
  {
   "cell_type": "code",
   "execution_count": null,
   "id": "1324b8d3",
   "metadata": {},
   "outputs": [],
   "source": [
    "import pandas as pd\n",
    "from datasets import load_dataset\n",
    "from transformers import AutoTokenizer, Gemma3Model,  TrainingArguments, Trainer\n",
    "from huggingface_hub import login\n",
    "from dotenv import load_dotenv\n",
    "import os\n",
    "import torch\n",
    "import torch.nn as nn\n",
    "import evaluate\n",
    "import numpy as np"
   ]
  },
  {
   "cell_type": "code",
   "execution_count": null,
   "id": "17c38933",
   "metadata": {},
   "outputs": [],
   "source": [
    "load_dotenv()\n",
    "\n",
    "HUGGINGFACE_TOKEN = os.getenv(\"HUGGINGFACE_TOKEN\")\n",
    "MODEL = \"google/gemma-3-4b-it\"\n",
    "SEED = 69\n",
    "device = 'mps'\n",
    "\n",
    "login(token=HUGGINGFACE_TOKEN)"
   ]
  },
  {
   "cell_type": "code",
   "execution_count": null,
   "id": "242f85ce",
   "metadata": {},
   "outputs": [],
   "source": [
    "# Lets get tha dataset\n",
    "# For us the dataset will be \n",
    "raw_dataset = load_dataset(\"mteb/tweet_sentiment_extraction\")\n",
    "df_train = pd.DataFrame(raw_dataset['train'])\n",
    "df_test = pd.DataFrame(raw_dataset['test'])"
   ]
  },
  {
   "cell_type": "code",
   "execution_count": null,
   "id": "158fe6a0",
   "metadata": {},
   "outputs": [],
   "source": [
    "# each segment of text \"tweet\" has a class 0 (negative), 1 (neutral), or 2 (positive)\n",
    "df_train['label'].unique()"
   ]
  },
  {
   "cell_type": "code",
   "execution_count": null,
   "id": "3edd47f1",
   "metadata": {},
   "outputs": [],
   "source": [
    "df_train"
   ]
  },
  {
   "cell_type": "code",
   "execution_count": null,
   "id": "feed4834",
   "metadata": {},
   "outputs": [],
   "source": [
    "# we need this to format the input so model can understand\n",
    "tokenizer = AutoTokenizer.from_pretrained(MODEL, trust_remote_code=True)"
   ]
  },
  {
   "cell_type": "code",
   "execution_count": null,
   "id": "cd20ab6e",
   "metadata": {},
   "outputs": [],
   "source": [
    "# test of the tokenizer\n",
    "text = ['hello world', 'bobby like to eat pizza']\n",
    "vec = tokenizer(text, padding=True)\n",
    "print(\"encoding: \",vec)\n",
    "\n",
    "print(\"decoding: \",tokenizer.batch_decode(vec['input_ids']))"
   ]
  },
  {
   "cell_type": "code",
   "execution_count": null,
   "id": "ed4808b0",
   "metadata": {},
   "outputs": [],
   "source": [
    "# we jsut define this so be used with the 'dataset' map function so apply to the data\n",
    "def tokenize_dataset(data):\n",
    "    return tokenizer(data['text'], padding=\"max_length\", truncation=True, max_length=128)"
   ]
  },
  {
   "cell_type": "code",
   "execution_count": null,
   "id": "94fe379d",
   "metadata": {},
   "outputs": [],
   "source": [
    "# apply tokanizeion to the dataset\n",
    "dataset = raw_dataset.map(tokenize_dataset, batched=True)"
   ]
  },
  {
   "cell_type": "code",
   "execution_count": null,
   "id": "0052a7e9",
   "metadata": {},
   "outputs": [],
   "source": [
    "# shuffle the dataset and split into smaller part sow e can run on laptop\n",
    "train = dataset['train'].shuffle(SEED).select(range(2))\n",
    "test = dataset['test'].shuffle(SEED).select(range(2))"
   ]
  },
  {
   "cell_type": "code",
   "execution_count": null,
   "id": "f31a9ca3",
   "metadata": {},
   "outputs": [],
   "source": [
    "# Since we are using gemma we need to def a model for seq classification\n",
    "# To do so we will import the base model then construct our model using output from the base model\n",
    "baseModel = Gemma3Model.from_pretrained(MODEL, device_map=\"auto\", output_hidden_states=True, attn_implementation=\"eager\")"
   ]
  },
  {
   "cell_type": "code",
   "execution_count": null,
   "id": "9b8b7b8b",
   "metadata": {},
   "outputs": [],
   "source": [
    "baseModel.config.output_hidden_states = True          \n",
    "baseModel.gradient_checkpointing_enable()     "
   ]
  },
  {
   "cell_type": "code",
   "execution_count": null,
   "id": "d2e4264a",
   "metadata": {},
   "outputs": [],
   "source": [
    "class Gemma3Classifier(nn.Module):\n",
    "    def __init__(self, bmodel, hiddensize, dropout=0.1):\n",
    "        super().__init__()\n",
    "        self.bmodel = bmodel\n",
    "        self.dropout = nn.Dropout(dropout) \n",
    "        self.head = nn.Linear(hiddensize, 3)\n",
    "    \n",
    "    def forward(self, input_ids, attention_mask, labels = None):\n",
    "        out = self.bmodel(input_ids, attention_mask)\n",
    "        hidden_state = out.hidden_states[-1]\n",
    "        print(hidden_state.shape)\n",
    "        embeddings = hidden_state[:, -1, :]  \n",
    "        logits = self.head(self.dropout(embeddings))\n",
    "\n",
    "        loss = None\n",
    "        if labels is not None:\n",
    "            loss = nn.CrossEntropyLoss()(logits, labels)\n",
    "        return {\"loss\": loss, \"logits\": logits} if loss is not None else {\"logits\": logits}\n"
   ]
  },
  {
   "cell_type": "code",
   "execution_count": null,
   "id": "7d351d8b",
   "metadata": {},
   "outputs": [],
   "source": [
    "metric = evaluate.load(\"accuracy\")\n",
    "\n",
    "def compute_metrics(eval_pred):\n",
    "   logits, labels = eval_pred\n",
    "   predictions = np.argmax(logits, axis=-1)\n",
    "   return metric.compute(predictions=predictions, references=labels)"
   ]
  },
  {
   "cell_type": "code",
   "execution_count": null,
   "id": "e5078d66",
   "metadata": {},
   "outputs": [],
   "source": [
    "model = Gemma3Classifier(bmodel=baseModel, dropout=0.1, hiddensize=baseModel.config.hidden_size).to(device)"
   ]
  },
  {
   "cell_type": "code",
   "execution_count": null,
   "id": "c9882b47",
   "metadata": {},
   "outputs": [],
   "source": [
    "out = model(input_ids=torch.tensor(train['input_ids']).to(device), attention_mask = torch.tensor(train['attention_mask']).to(device), labels = torch.tensor(train['label']).to(device))"
   ]
  },
  {
   "cell_type": "code",
   "execution_count": null,
   "id": "879ed0c7",
   "metadata": {},
   "outputs": [],
   "source": [
    "\n",
    "training_args = TrainingArguments(\n",
    "   output_dir=\"test_trainer\",\n",
    "   #evaluation_strategy=\"epoch\",\n",
    "   per_device_train_batch_size=4,  # Reduce batch size here\n",
    "   per_device_eval_batch_size=4,    # Optionally, reduce for evaluation as well\n",
    "   gradient_accumulation_steps=4\n",
    "   )\n",
    "\n",
    "\n",
    "trainer = Trainer(\n",
    "   model=model,\n",
    "   args=training_args,\n",
    "   train_dataset=train,\n",
    "   eval_dataset=test,\n",
    "   compute_metrics=compute_metrics,)\n",
    "\n",
    "trainer.train()"
   ]
  },
  {
   "cell_type": "code",
   "execution_count": null,
   "id": "ccfd37d0",
   "metadata": {},
   "outputs": [],
   "source": [
    "trainer.evaluate()"
   ]
  }
 ],
 "metadata": {
  "kernelspec": {
   "display_name": "base",
   "language": "python",
   "name": "python3"
  },
  "language_info": {
   "codemirror_mode": {
    "name": "ipython",
    "version": 3
   },
   "file_extension": ".py",
   "mimetype": "text/x-python",
   "name": "python",
   "nbconvert_exporter": "python",
   "pygments_lexer": "ipython3",
   "version": "3.12.11"
  }
 },
 "nbformat": 4,
 "nbformat_minor": 5
}
